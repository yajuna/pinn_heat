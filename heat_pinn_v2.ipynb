{
  "nbformat": 4,
  "nbformat_minor": 0,
  "metadata": {
    "colab": {
      "provenance": [],
      "authorship_tag": "ABX9TyPZFw/N2Q4mrt3QKemXrhWU",
      "include_colab_link": true
    },
    "kernelspec": {
      "name": "python3",
      "display_name": "Python 3"
    },
    "language_info": {
      "name": "python"
    }
  },
  "cells": [
    {
      "cell_type": "markdown",
      "metadata": {
        "id": "view-in-github",
        "colab_type": "text"
      },
      "source": [
        "<a href=\"https://colab.research.google.com/github/yajuna/pinn_heat/blob/master/heat_pinn_v2.ipynb\" target=\"_parent\"><img src=\"https://colab.research.google.com/assets/colab-badge.svg\" alt=\"Open In Colab\"/></a>"
      ]
    },
    {
      "cell_type": "markdown",
      "source": [
        "# This notebook solves the heat equation in cylindrical coordinates with a physics informed neural network.\n",
        "We train the neural network with temperature data collected in onsite, and incorporate weather condition as source term.\n",
        "\n",
        "The physics informed neural network is based on previous work done by Raissi et al, and a comprehensive review by Blechschmidt and Ernst. This notebook is based on the tensorflow 2 implementation by Blechschmidt and Ernst.\n",
        "\n",
        "Consider the 1 dimensional heat equation\n",
        "\n",
        "$\\rho c \\frac{\\partial T}{\\partial t}=\\frac{k}{r}\\frac{\\partial T}{\\partial r}+k\\frac{\\partial^2 T}{\\partial r^2}+\\text{source terms}$,\n",
        "\n",
        "together with initial and boundary conditions\n",
        "\n",
        "$T_{t=0} = T_{init}$, $T|_{\\partial D} = T_b$, we construct a neural network that incorporates the residual of the PDE (as physics information):\n",
        "\n",
        "residual = $\\frac{\\partial T}{\\partial t}-\\frac{k}{\\rho c }\\frac{1}{r}\\frac{\\partial T}{\\partial r}-\\frac{k}{\\rho c}\\frac{\\partial^2 T}{\\partial r^2}-\\frac{1}{\\rho c}\\text{source terms}$\n",
        "\n",
        "The source term includes three terms: solar radiation, long radiation, as well as heat convection."
      ],
      "metadata": {
        "id": "OfFop9VkI9lR"
      }
    },
    {
      "cell_type": "markdown",
      "source": [
        "## Import packages\n",
        "\n",
        "This computation mostly requires the ``numpy`` library, as well as ``tensorflow 2``. Visualization is done with ``matplotlib``."
      ],
      "metadata": {
        "id": "v0udK71MMjkp"
      }
    },
    {
      "cell_type": "code",
      "execution_count": null,
      "metadata": {
        "colab": {
          "base_uri": "https://localhost:8080/"
        },
        "id": "oQ7JnmcTSU4O",
        "outputId": "823a7ba1-495e-4cb5-91ba-3fb21c18853d"
      },
      "outputs": [
        {
          "output_type": "stream",
          "name": "stdout",
          "text": [
            "Python 3 version is 3.10.12 (main, Nov 20 2023, 15:14:05) [GCC 11.4.0]\n",
            "Matplotlib version is 3.7.1\n",
            "Tensorflow version is 2.15.0\n",
            "Numpy version is 1.23.5\n"
          ]
        }
      ],
      "source": [
        "import tensorflow as tf\n",
        "import numpy as np\n",
        "import matplotlib.pyplot as plt\n",
        "import pandas\n",
        "\n",
        "from time import time\n",
        "from IPython.display import clear_output\n",
        "\n",
        "clear_output()\n",
        "\n",
        "import sys\n",
        "print(\"Python 3 version is\", sys.version)\n",
        "import matplotlib\n",
        "print(\"Matplotlib version is\", matplotlib.__version__)\n",
        "print(\"Tensorflow version is\", tf.__version__)\n",
        "print(\"Numpy version is\", np.__version__)"
      ]
    },
    {
      "cell_type": "markdown",
      "source": [
        "## Set data type and hyperparameters\n",
        "N_0: number of points in space\n",
        "N_b: number of points in time\n",
        "N_r: number of points within the space time domain\n",
        "\n",
        "We solve the heat equation in a 24 hour period, and boundary conditions are measured on a mango tree with radius 0.135 m.\n",
        "\n",
        "Initial condition is interpolated at ``X_0``; inner boundary condition is measured at ``X_lb``; outer boundary condition is measured at ``X_ub``. A set of collocation points are generated uniformly randomly, and stored in ``X_r``.\n",
        "\n",
        "Two additional set of measured data sets are recorded at ``X_train`` and ``X_train1``. These correspond to temperature data measured at 9cm depth and 4.5cm depth in the tree trunk.\n",
        "\n",
        "Here we take ``X_0 = X_b`` for the simplicity of concatenation, following Blechschmidt and Ernst.\n",
        "\n",
        "$\\sigma$ and albedo are heat parameters used in the source terms.\n",
        "\n",
        "A random seed is set for reproducibility."
      ],
      "metadata": {
        "id": "mt3KZbPiNiZ4"
      }
    },
    {
      "cell_type": "code",
      "source": [
        "# set data type and hyperparameters\n",
        "\n",
        "DTYPE = 'float32'\n",
        "tf.keras.backend.set_floatx(DTYPE)\n",
        "\n",
        "pi = tf.constant(np.pi, dtype = DTYPE)\n",
        "\n",
        "# Set number of data points\n",
        "N_0 = 412 # number of points in space; same as N_0 for simplicity\n",
        "N_b = 412 # number of points in time; this is the amount of measurements in 24 hours\n",
        "N_r = 1000\n",
        "\n",
        "# Set boundary\n",
        "tmin = 0.\n",
        "tmax = 24.\n",
        "xmin = 0.001\n",
        "xmax = 0.135\n",
        "\n",
        "# # surface source to volume source\n",
        "# delta_r = (xmax - xmin) / N_b\n",
        "# coeff_surface = 1. / delta_r\n",
        "\n",
        "# heat parameters\n",
        "sigma = 5.76e-8\n",
        "albedo = 0.3\n",
        "\n",
        "# Lower bounds in time and space\n",
        "lb = tf.constant([tmin, xmin], dtype=DTYPE)\n",
        "# Upper bounds in time and space\n",
        "ub = tf.constant([tmax, xmax], dtype=DTYPE)\n",
        "\n",
        "# Set random seed for reproducible results\n",
        "tf.random.set_seed(0)\n",
        "\n",
        "# Draw uniform sample points for initial boundary data; need N_0 == N_b for concat\n",
        "t_0 = tf.ones((N_0,1), dtype=DTYPE)*lb[0]\n",
        "x_init = tf.linspace(lb[1], ub[1], N_0)\n",
        "x_0 = tf.reshape(x_init, (N_0,1))\n",
        "X_0 = tf.concat([t_0, x_0], axis=1)\n",
        "\n",
        "# Boundary data- left to be core temperature, and right the bark temperature\n",
        "t_boundary = tf.linspace(lb[0], ub[0], N_b)\n",
        "t_b = tf.reshape(t_boundary, (N_b,1))\n",
        "x_lb = tf.ones((N_b,1), dtype=DTYPE)*lb[1]\n",
        "x_ub = tf.ones((N_b,1), dtype=DTYPE)*ub[1]\n",
        "X_lb = tf.concat([t_b, x_lb], axis=1)\n",
        "X_ub = tf.concat([t_b, x_ub], axis=1)\n",
        "\n",
        "## Add extra training data at X_train (location at midTemp1)\n",
        "idx = int(N_0 / 3)\n",
        "x_train = tf.ones((N_0,1), dtype=DTYPE) * x_init[idx]\n",
        "X_train = tf.concat([t_b, x_train], axis=1)\n",
        "x_train1 = tf.ones((N_0,1), dtype=DTYPE) * x_init[2 * idx]\n",
        "X_train1 = tf.concat([t_b, x_train1], axis=1)\n",
        "\n",
        "\n",
        "# Draw uniformly sampled collocation points\n",
        "t_r = tf.random.uniform((N_r,1), lb[0], ub[0], dtype=DTYPE)\n",
        "x_r = tf.random.uniform((N_r,1), lb[1], ub[1], dtype=DTYPE)\n",
        "X_r = tf.concat([t_r, x_r], axis=1)"
      ],
      "metadata": {
        "id": "YKH8KB-SSwQM"
      },
      "execution_count": null,
      "outputs": []
    },
    {
      "cell_type": "markdown",
      "source": [
        "## Count the index of data on August 21.\n",
        "``train_tree_temp_index`` finds measured temperature data in temperature spreadsheet\n",
        "``train_weather_index`` finds recorded weather data to use in source terms."
      ],
      "metadata": {
        "id": "00Q_4rgid4yF"
      }
    },
    {
      "cell_type": "code",
      "source": [
        "##### ave tree temp and weather temp for future reference\n",
        "train_tree_temp_index = 416 - 2\n",
        "train_interp_temp_size = train_tree_temp_index\n",
        "\n",
        "train_weather_index = 145 - 2\n",
        "train_interp_weather_size = train_weather_index"
      ],
      "metadata": {
        "id": "pb1zjvAqS2d9"
      },
      "execution_count": null,
      "outputs": []
    },
    {
      "cell_type": "markdown",
      "source": [
        "## Import temperature data used to train the neural network"
      ],
      "metadata": {
        "id": "cPnLqiokeR41"
      }
    },
    {
      "cell_type": "code",
      "source": [
        "##### measured tree temperature for initial and boundary conditions. Need fixing\n",
        "colnames_tree_temp = ['datetime', 's45_1', 'e9_1', 'n135_1','e45_2', 'n9_2', 'w135_2', 'n45_3', 'w9_3','s135_3', 'w_ext_35']\n",
        "url1 = \"https://raw.githubusercontent.com/yajuna/pinn_heat/master/Tree_Temp_Values_AUG21_to_AUG28_2022.xlsx\"\n",
        "dataTemp = pandas.read_excel(url1,names=colnames_tree_temp)\n",
        "\n",
        "### training temperature data\n",
        "# core temp is west, at 13.5cm, at 2m high\n",
        "train_coreTemp = np.array(dataTemp.s135_3[2: train_tree_temp_index])#+ 273.15\n",
        "# West, at 9cm, at 3m high\n",
        "train_midTemp1 = np.array(dataTemp.w9_3[2: train_tree_temp_index])#+ 273.15\n",
        "# North, at 4.5cm, at 3m high\n",
        "train_midTemp2 = np.array(dataTemp.n45_3[2: train_tree_temp_index])#+ 273.15\n",
        "# bark temp is West, at bark, at 3.5m high\n",
        "train_barkTemp = np.array(dataTemp.w_ext_35[2: train_tree_temp_index])#+ 273.15\n",
        "\n",
        "train_initTemp = np.array([train_coreTemp[0], train_midTemp1[0], train_midTemp2[0], train_barkTemp[0]])\n",
        "train_init_temp = np.interp(np.linspace(0,xmax,N_0), np.linspace(0,xmax,train_initTemp.size),train_initTemp)\n"
      ],
      "metadata": {
        "id": "racafxWjS6Kw"
      },
      "execution_count": null,
      "outputs": []
    },
    {
      "cell_type": "markdown",
      "source": [
        "## Construct training data ``u_data`` at ``X_data``."
      ],
      "metadata": {
        "id": "IFHY2TDyepYp"
      }
    },
    {
      "cell_type": "code",
      "source": [
        "u_0 = train_init_temp\n",
        "u_lb = train_coreTemp\n",
        "u_ub = train_barkTemp\n",
        "u_train = train_midTemp1\n",
        "u_train1 = train_midTemp2\n",
        "\n",
        "# collect initial and two boundary data in lists # add training data and points\n",
        "X_data = [X_0, X_lb, X_ub ]#, X_train]#, X_train1]\n",
        "u_data = [u_0, u_lb, u_ub ]#, u_train]#, u_train1]"
      ],
      "metadata": {
        "id": "S38Hq4K8TG89"
      },
      "execution_count": null,
      "outputs": []
    },
    {
      "cell_type": "markdown",
      "source": [
        "## Read weather data and compute source term"
      ],
      "metadata": {
        "id": "iijsKrNXe3xi"
      }
    },
    {
      "cell_type": "code",
      "source": [
        "colnames_weather = ['datetime', 'wind_speed', 'wind_direction', 'humidity', 'air_temperature', 'air_pressure', 'solar_DNI']\n",
        "url2 = \"https://raw.githubusercontent.com/yajuna/pinn_heat/master/Weather_Station_AUG21_to_AUG28_2022.xlsx\"\n",
        "dataWeather = pandas.read_excel(url2,names=colnames_weather)\n",
        "\n",
        "nu = 15.89e-6 # m^2/s kinematic viscosity of air\n",
        "Pr = 0.707\n",
        "ka = 26.3e-3 # W/mK conductivity of air\n",
        "coeff = 2 * xmax / nu\n",
        "\n",
        "#### training\n",
        "# wind speed from Oct 21\n",
        "train_windSpeed = np.array(dataWeather.wind_speed[:train_weather_index])\n",
        "# humidity from Oct 21\n",
        "train_humidity = np.array(dataWeather.humidity[:train_weather_index])\n",
        "# air temperature from Oct 21\n",
        "train_airTemp = np.array(dataWeather.air_temperature[:train_weather_index])#+ 273.15\n",
        "# air pressure from Oct 21\n",
        "train_airPressure = np.array(dataWeather.air_pressure[:train_weather_index])\n",
        "# solar radiation from Oct 21\n",
        "train_solar = np.array(dataWeather.solar_DNI[:train_weather_index])\n",
        "\n",
        "train_airTemp = np.interp(np.linspace(0,24,N_b), np.linspace(0,24,train_interp_weather_size),train_airTemp)\n",
        "train_windSpeed = np.interp(np.linspace(0,24,N_b), np.linspace(0,24,train_interp_weather_size),train_windSpeed)\n",
        "train_solar = np.interp(np.linspace(0,24,N_b), np.linspace(0,24,train_interp_weather_size),train_solar)\n",
        "\n",
        "\n",
        "\n",
        "Re_train = train_windSpeed * coeff\n",
        "C_train = []\n",
        "m_train = []\n",
        "for j in range(train_windSpeed.size):\n",
        "    temp = Re_train[j]\n",
        "    if temp < 0.4:\n",
        "        temp1 = [0, 0]\n",
        "    if 0.4<=temp<= 4:\n",
        "        temp1 = [0.989, 0.330]\n",
        "    if 4<temp<= 40:\n",
        "        temp1 = [0.911, 0.385]\n",
        "    if 40<temp<= 4e3:\n",
        "        temp1 = [0.683, 0.466]\n",
        "    if 4e3<temp<= 4e4:\n",
        "        temp1 = [0.193, 0.618]\n",
        "    if 4e4<temp<= 4e5:\n",
        "        temp1 = [0.027, 0.805]\n",
        "    C_train.append(temp1[0])\n",
        "    m_train.append(temp1[1])\n",
        "\n",
        "Nu_train = C_train * Re_train ** m_train * Pr ** (1/3)\n",
        "h_train = Nu_train * ka / (2 * xmax)\n",
        "\n",
        "convect_train = h_train * (u_ub - train_airTemp)\n",
        "sourceTerm_train = (1 - albedo) * train_solar + sigma * (train_airTemp**4 - u_ub**4) + convect_train\n"
      ],
      "metadata": {
        "id": "4PMU01UdTT-j"
      },
      "execution_count": null,
      "outputs": []
    },
    {
      "cell_type": "markdown",
      "source": [
        "## Define parameters for the heat equation.\n",
        "\n",
        "Here\n",
        "$k=0.12$ is the heat conductivity\n",
        "$c = 1380$ is the heat capacity\n",
        "$\\rho = 510$ is the density of mango trees"
      ],
      "metadata": {
        "id": "EeQSjKRLe-dA"
      }
    },
    {
      "cell_type": "code",
      "source": [
        "lambd1 = 0.12/(1380 * 510)\n",
        "lambd2 = 1./(1380 * 510)"
      ],
      "metadata": {
        "id": "fsezCFPvT4Tu"
      },
      "execution_count": null,
      "outputs": []
    },
    {
      "cell_type": "markdown",
      "source": [
        "## Set up architecture of neural network\n",
        "The default neural network has 8 hidden layers, with 20 neurons per layer.\n",
        "\n",
        "The input is two dimensional, consisting of time and space variable.\n",
        "\n",
        "First hidden layer is a scaling layer that maps the input from ``[lb, ub]`` to [-1,1].\n",
        "\n",
        "8 hidden layers are appended- each with ``tanh`` activation function.\n",
        "\n",
        "The output layer is one dimensional solution of the temperature."
      ],
      "metadata": {
        "id": "ZaPuricDfSe5"
      }
    },
    {
      "cell_type": "code",
      "source": [
        "def init_model(num_hidden_layers=8, num_neurons_per_layer=20):\n",
        "    # Initialize a feedforward neural network\n",
        "    model = tf.keras.Sequential()\n",
        "\n",
        "    # Input is two-dimensional (time + one spatial dimension)\n",
        "    model.add(tf.keras.Input(2))\n",
        "\n",
        "    # Introduce a scaling layer to map input from [lb, ub] to [-1,1]\n",
        "    scaling_layer = tf.keras.layers.Lambda(\n",
        "                lambda x: 2.0*(x - lb)/(ub - lb) - 1.0)\n",
        "    model.add(scaling_layer)\n",
        "\n",
        "    # Append hidden layers\n",
        "    for _ in range(num_hidden_layers):\n",
        "        model.add(tf.keras.layers.Dense(num_neurons_per_layer,\n",
        "            activation=tf.keras.activations.get('tanh'),\n",
        "            kernel_initializer='glorot_normal'))\n",
        "\n",
        "    # Output is one-dimensional computed temperature\n",
        "    model.add(tf.keras.layers.Dense(1))\n",
        "\n",
        "    return model"
      ],
      "metadata": {
        "id": "XX94Tq6ZT-MK"
      },
      "execution_count": null,
      "outputs": []
    },
    {
      "cell_type": "markdown",
      "source": [
        "## Compute residual of the PDE with tensorflow's ``gradiant tape``.\n",
        "\n",
        "$u$ and $u_x$ are computed within the tape, to enable computation of $u_t$ and $u_{xx}$.\n",
        "\n",
        "The function ``get_r`` takes a neural network and space time points, and returns the residual\n",
        "\n",
        "residual = $\\frac{\\partial T}{\\partial t}-\\frac{k}{\\rho c }\\frac{1}{r}\\frac{\\partial T}{\\partial r}-\\frac{k}{\\rho c}\\frac{\\partial^2 T}{\\partial r^2}-\\frac{1}{\\rho c}\\text{source terms}$\n",
        "\n",
        "at the given space time points $X$.\n"
      ],
      "metadata": {
        "id": "UZ45rIweinmB"
      }
    },
    {
      "cell_type": "code",
      "source": [
        "def get_r(model, X)-> tf.Tensor:\n",
        "\n",
        "    # A tf.GradientTape is used to compute derivatives in TensorFlow\n",
        "    with tf.GradientTape(persistent=True) as tape:\n",
        "        # Split t and x to compute partial derivatives\n",
        "        t, x = X[:, 0:1], X[:,1:2]\n",
        "\n",
        "        # Variables t and x are watched during tape\n",
        "        # to compute derivatives u_t and u_x\n",
        "        tape.watch(t)\n",
        "        tape.watch(x)\n",
        "\n",
        "        # Determine residual\n",
        "        u = model(tf.stack([t[:,0], x[:,0]], axis=1))\n",
        "\n",
        "        # Compute gradient u_x within the GradientTape\n",
        "        # since we need second derivatives\n",
        "        u_x = tape.gradient(u, x)\n",
        "\n",
        "    u_t = tape.gradient(u, t)\n",
        "    u_xx = tape.gradient(u_x, x)\n",
        "\n",
        "    del tape\n",
        "\n",
        "    return u_t - 1./x * lambd1 * u_x - lambd1 * u_xx - lambd2 * sourceTerm_train"
      ],
      "metadata": {
        "id": "1q5nKOjbUCNy"
      },
      "execution_count": null,
      "outputs": []
    },
    {
      "cell_type": "markdown",
      "source": [
        " Test cells with model, residual and compute reduce mean. Commented out after testing."
      ],
      "metadata": {
        "id": "EzLSby3brFkw"
      }
    },
    {
      "cell_type": "code",
      "source": [
        "# model = init_model(num_hidden_layers = 2)\n",
        "# r = get_r(model, X_0)\n",
        "# phi_r = tf.reduce_mean(tf.square(r))"
      ],
      "metadata": {
        "id": "vAzHCzFEUFZf"
      },
      "execution_count": null,
      "outputs": []
    },
    {
      "cell_type": "markdown",
      "source": [
        "## Compute loss from the neural network.\n",
        "\n",
        "Loss is the sum of the following terms-\n",
        "\n",
        "1. ``phi_r``: the residual at the interior points ``X_r``.\n",
        "\n",
        "2. At ``X_0``, ``X_lb`` and ``X_ub``, we compute predicted temperature with PINN model, then compute the mean square loss of $u_{true} - u_{pred}$\n",
        "\n",
        "Total loss is the sum of the above two terms."
      ],
      "metadata": {
        "id": "A96rEJ2SsHzS"
      }
    },
    {
      "cell_type": "code",
      "source": [
        "def compute_loss(model, X_r, X_data, u_data)-> tf.Tensor:\n",
        "\n",
        "    # Compute phi^r-- physics informed loss\n",
        "    r = get_r(model, X_r)\n",
        "    phi_r = tf.reduce_mean(tf.square(r))\n",
        "\n",
        "    # Initialize loss\n",
        "    loss = phi_r\n",
        "\n",
        "    # Add initial error loss; add boundary loss\n",
        "\n",
        "    for i in range(len(X_data)):\n",
        "        u_pred = model(X_data[i])\n",
        "        loss += tf.reduce_mean(tf.square(u_data[i] - u_pred))\n",
        "\n",
        "        return loss\n",
        "\n",
        "    ## define customized loss-- max(abs(u_data and u_pred))\n",
        "\n",
        "\n",
        "    return loss"
      ],
      "metadata": {
        "id": "kvOCReqdUIPD"
      },
      "execution_count": null,
      "outputs": []
    },
    {
      "cell_type": "markdown",
      "source": [
        "Testing cell for loss. Commented out after testing"
      ],
      "metadata": {
        "id": "VCxFNFqEtFwj"
      }
    },
    {
      "cell_type": "code",
      "source": [
        "# loss = compute_loss(model, X_r, X_data, u_data)"
      ],
      "metadata": {
        "id": "F7YEEFRUULOY"
      },
      "execution_count": null,
      "outputs": []
    },
    {
      "cell_type": "markdown",
      "source": [
        "## Compute gradient with respect to trainable variables of the Neural Network."
      ],
      "metadata": {
        "id": "Hk6jIEDqtKre"
      }
    },
    {
      "cell_type": "code",
      "source": [
        "def get_grad(model, X_r, X_data, u_data):\n",
        "\n",
        "    with tf.GradientTape(persistent=True) as tape:\n",
        "        # This tape is for derivatives with\n",
        "        # respect to trainable variables\n",
        "        tape.watch(model.trainable_variables)\n",
        "        loss = compute_loss(model, X_r, X_data, u_data)\n",
        "\n",
        "    g = tape.gradient(loss, model.trainable_variables)\n",
        "    del tape\n",
        "\n",
        "    return loss, g"
      ],
      "metadata": {
        "id": "nttNR9jsUNu-"
      },
      "execution_count": null,
      "outputs": []
    },
    {
      "cell_type": "markdown",
      "source": [
        "## Define model and learning rate\n",
        "Initialize model with two hidden layers; Define learning rate for gradient descent algorithm to be a piecewise constant function that decays in the following way.\n",
        "\n",
        "1. The first 1000 steps use a learning rate of 0.01.\n",
        "\n",
        "2. From 1000 - 3000: learning rate = 0.001\n",
        "\n",
        "3. From 3000 onwards: learning rate = 0.0005\n"
      ],
      "metadata": {
        "id": "6rqE0oNitYz7"
      }
    },
    {
      "cell_type": "code",
      "source": [
        "# Initialize model\n",
        "model = init_model(num_hidden_layers = 2)\n",
        "\n",
        "lr = tf.keras.optimizers.schedules.PiecewiseConstantDecay([1000,3000],[1e-2,1e-3,5e-4])\n",
        "\n",
        "# Choose the optimizer\n",
        "optim = tf.keras.optimizers.Adam(learning_rate=lr)\n",
        "\n",
        "model.summary()\n",
        "tf.keras.utils.plot_model(model, to_file='model_plot.png', show_shapes=True,\n",
        "                          show_layer_names=True, show_dtype=True,\n",
        "                          show_layer_activations=True)\n"
      ],
      "metadata": {
        "colab": {
          "base_uri": "https://localhost:8080/",
          "height": 990
        },
        "id": "6ZFsi3jYUQnr",
        "outputId": "5b73abef-f04b-4021-e06d-5deae084c847"
      },
      "execution_count": null,
      "outputs": [
        {
          "output_type": "stream",
          "name": "stdout",
          "text": [
            "Model: \"sequential_1\"\n",
            "_________________________________________________________________\n",
            " Layer (type)                Output Shape              Param #   \n",
            "=================================================================\n",
            " lambda_1 (Lambda)           (None, 2)                 0         \n",
            "                                                                 \n",
            " dense_3 (Dense)             (None, 20)                60        \n",
            "                                                                 \n",
            " dense_4 (Dense)             (None, 20)                420       \n",
            "                                                                 \n",
            " dense_5 (Dense)             (None, 1)                 21        \n",
            "                                                                 \n",
            "=================================================================\n",
            "Total params: 501 (1.96 KB)\n",
            "Trainable params: 501 (1.96 KB)\n",
            "Non-trainable params: 0 (0.00 Byte)\n",
            "_________________________________________________________________\n"
          ]
        },
        {
          "output_type": "execute_result",
          "data": {
            "image/png": "[encoded data removed]",
            "text/plain": [
              "<IPython.core.display.Image object>"
            ]
          },
          "metadata": {},
          "execution_count": 31
        }
      ]
    },
    {
      "cell_type": "markdown",
      "source": [
        "## Training\n",
        "We observe convergence by looking at the loss function. We experimemt with Kelvin as well as Celsius as unit for temperatures. We observe\n",
        "convergence within a few hundred epochs with Celsius, and a few thousand with Kelvin. The observed limit of loss is about 4.4e-1.\n",
        "\n",
        "We have implemented Celsius for quick testing."
      ],
      "metadata": {
        "id": "Hk_PjK4uuApY"
      }
    },
    {
      "cell_type": "code",
      "source": [
        "# Define one training step as a TensorFlow function to increase speed of training\n",
        "@tf.function\n",
        "def train_step()-> tf.Tensor:\n",
        "    # Compute current loss and gradient w.r.t. parameters\n",
        "    loss, grad_theta = get_grad(model, X_r, X_data, u_data)\n",
        "\n",
        "    # Perform gradient descent step\n",
        "    optim.apply_gradients(zip(grad_theta, model.trainable_variables))\n",
        "\n",
        "    return loss\n",
        "\n",
        "# Number of training epochs\n",
        "EPOCH = 1000\n",
        "hist = []\n",
        "\n",
        "# Start timer\n",
        "t0 = time()\n",
        "\n",
        "for i in range(EPOCH+1):\n",
        "\n",
        "    loss = train_step()\n",
        "\n",
        "    # Append current loss to hist\n",
        "    hist.append(loss.numpy())\n",
        "\n",
        "    # Output current loss after 50 iterates\n",
        "    if i%50 == 0:\n",
        "        print('It {:05d}: loss = {:10.8e}'.format(i,loss))\n",
        "\n",
        "# Print computation time\n",
        "print('\\nComputation time: {} seconds'.format(time()-t0))"
      ],
      "metadata": {
        "colab": {
          "base_uri": "https://localhost:8080/"
        },
        "id": "xbzwJoZsUVWY",
        "outputId": "665ce613-5f6d-4b71-d491-5e9f28ae8ce3"
      },
      "execution_count": null,
      "outputs": [
        {
          "output_type": "stream",
          "name": "stdout",
          "text": [
            "It 00000: loss = 6.47041626e+02\n",
            "It 00050: loss = 1.08326782e+02\n",
            "It 00100: loss = 1.51740866e+01\n",
            "It 00150: loss = 1.26211774e+00\n",
            "It 00200: loss = 5.10647714e-01\n",
            "It 00250: loss = 4.73313630e-01\n",
            "It 00300: loss = 4.60920721e-01\n",
            "It 00350: loss = 4.54346120e-01\n",
            "It 00400: loss = 4.50340152e-01\n",
            "It 00450: loss = 4.47680026e-01\n",
            "It 00500: loss = 4.45805639e-01\n",
            "It 00550: loss = 4.44425732e-01\n",
            "It 00600: loss = 4.43375170e-01\n",
            "It 00650: loss = 4.42553580e-01\n",
            "It 00700: loss = 4.41896886e-01\n",
            "It 00750: loss = 4.41362381e-01\n",
            "It 00800: loss = 4.40920651e-01\n",
            "It 00850: loss = 4.40550655e-01\n",
            "It 00900: loss = 4.40237194e-01\n",
            "It 00950: loss = 4.39969122e-01\n",
            "It 01000: loss = 4.39737618e-01\n",
            "\n",
            "Computation time: 8.559262037277222 seconds\n"
          ]
        }
      ]
    },
    {
      "cell_type": "markdown",
      "source": [
        "## Visualization\n",
        "Loss history is plotted as a function of epoch."
      ],
      "metadata": {
        "id": "8-o48KuDB1Xa"
      }
    },
    {
      "cell_type": "code",
      "source": [
        "fig = plt.figure(figsize=(9,6))\n",
        "ax = fig.add_subplot(111)\n",
        "ax.semilogy(range(len(hist)), hist,'k-')\n",
        "ax.set_xlabel('$n_{epoch}$')\n",
        "ax.set_ylabel('$\\\\phi_{n_{epoch}}$');"
      ],
      "metadata": {
        "colab": {
          "base_uri": "https://localhost:8080/",
          "height": 544
        },
        "id": "sQ8rN87ZUarn",
        "outputId": "54b2d875-712c-4342-ed88-cb724e40cdf8"
      },
      "execution_count": null,
      "outputs": [
        {
          "output_type": "display_data",
          "data": {
            "text/plain": [
              "<Figure size 900x600 with 1 Axes>"
            ],
            "image/png": "[encoded data removed]"
          },
          "metadata": {}
        }
      ]
    }
  ]
}